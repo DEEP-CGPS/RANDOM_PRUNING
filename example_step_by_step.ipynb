{
 "cells": [
  {
   "attachments": {},
   "cell_type": "markdown",
   "id": "ab166015",
   "metadata": {},
   "source": [
    "## Index:\n",
    "1. Definition of arguments for function usage\n",
    "2. Model creation\n",
    "        2.1. FLOPs verification, number of conv and linear layers\n",
    "3. Dataset creation\n",
    "4. Training unpruned model\n",
    "5. Model pruning\n",
    "        5.1. FLOPs verification, number of conv and linear layers\n",
    "6. Training the pruned model"
   ]
  },
  {
   "attachments": {},
   "cell_type": "markdown",
   "id": "57cdff77",
   "metadata": {},
   "source": [
    "### 1. Definition of arguments for function usage\n"
   ]
  },
  {
   "cell_type": "code",
   "execution_count": 1,
   "id": "c5a0cdc0",
   "metadata": {},
   "outputs": [],
   "source": [
    "import sys\n",
    "import torch\n",
    "import torch.optim as optim\n",
    "import torchvision\n",
    "from torchvision import transforms\n",
    "from utils import *\n",
    "import argparse\n",
    "sys.argv = ['']\n",
    "\n",
    "parser = argparse.ArgumentParser(description='Parameters training')\n",
    "parser.add_argument('--model_architecture', type=str, default=\"VGG16\", help='....')\n",
    "parser.add_argument('--dataset', type=str, default=\"CIFAR10\", help='....')\n",
    "parser.add_argument('--batch_size', type=int, default=16, help='....')\n",
    "parser.add_argument('--num_epochs', type=int, default=1, help='....')\n",
    "parser.add_argument('--learning_rate', type=float, default=1e-4, help='....')\n",
    "parser.add_argument('--optimizer_val', type=str, default=\"SGD\", help='....')\n",
    "parser.add_argument('--model_type', type=str, default=\"UNPRUNED\", help='....')\n",
    "parser.add_argument('--device', type=str, default=None, help='....')\n",
    "parser.add_argument('--model_input', default=torch.ones((1, 3, 224, 224)), help='....')\n",
    "parser.add_argument('--pruning_seed', type=int, default=23, help='....')\n",
    "parser.add_argument('--list_pruning', type=list, default = [0.6,0.6,0.53,0.53,0.4,0.4,0.4,0.5,0.5,0.5,0.6,0.6,0.6,0.5,0.5,0], help='....')\n",
    "args = parser.parse_args()\n",
    "\n",
    "if args.device is None:\n",
    "    import torch\n",
    "    args.device = torch.device(\"cuda\" if torch.cuda.is_available() else \"cpu\")\n"
   ]
  },
  {
   "attachments": {},
   "cell_type": "markdown",
   "id": "1b089ad9",
   "metadata": {},
   "source": [
    "### 2. Model creation"
   ]
  },
  {
   "cell_type": "code",
   "execution_count": 2,
   "id": "c3304256",
   "metadata": {},
   "outputs": [],
   "source": [
    "model = get_model(args)"
   ]
  },
  {
   "attachments": {},
   "cell_type": "markdown",
   "id": "aa349f92",
   "metadata": {},
   "source": [
    "#### 2.1. FLOPs verification, number of conv and linear layers"
   ]
  },
  {
   "cell_type": "code",
   "execution_count": 3,
   "id": "7d98b1ec",
   "metadata": {},
   "outputs": [
    {
     "name": "stderr",
     "output_type": "stream",
     "text": [
      "Unsupported operator aten::add_ encountered 13 time(s)\n",
      "Unsupported operator aten::max_pool2d encountered 5 time(s)\n"
     ]
    },
    {
     "name": "stdout",
     "output_type": "stream",
     "text": [
      "----------------------------------------------------------------\n",
      "        Layer (type)               Output Shape         Param #\n",
      "================================================================\n",
      "            Conv2d-1         [-1, 64, 224, 224]           1,792\n",
      "       BatchNorm2d-2         [-1, 64, 224, 224]             128\n",
      "              ReLU-3         [-1, 64, 224, 224]               0\n",
      "            Conv2d-4         [-1, 64, 224, 224]          36,928\n",
      "       BatchNorm2d-5         [-1, 64, 224, 224]             128\n",
      "              ReLU-6         [-1, 64, 224, 224]               0\n",
      "         MaxPool2d-7         [-1, 64, 112, 112]               0\n",
      "            Conv2d-8        [-1, 128, 112, 112]          73,856\n",
      "       BatchNorm2d-9        [-1, 128, 112, 112]             256\n",
      "             ReLU-10        [-1, 128, 112, 112]               0\n",
      "           Conv2d-11        [-1, 128, 112, 112]         147,584\n",
      "      BatchNorm2d-12        [-1, 128, 112, 112]             256\n",
      "             ReLU-13        [-1, 128, 112, 112]               0\n",
      "        MaxPool2d-14          [-1, 128, 56, 56]               0\n",
      "           Conv2d-15          [-1, 256, 56, 56]         295,168\n",
      "      BatchNorm2d-16          [-1, 256, 56, 56]             512\n",
      "             ReLU-17          [-1, 256, 56, 56]               0\n",
      "           Conv2d-18          [-1, 256, 56, 56]         590,080\n",
      "      BatchNorm2d-19          [-1, 256, 56, 56]             512\n",
      "             ReLU-20          [-1, 256, 56, 56]               0\n",
      "           Conv2d-21          [-1, 256, 56, 56]         590,080\n",
      "      BatchNorm2d-22          [-1, 256, 56, 56]             512\n",
      "             ReLU-23          [-1, 256, 56, 56]               0\n",
      "        MaxPool2d-24          [-1, 256, 28, 28]               0\n",
      "           Conv2d-25          [-1, 512, 28, 28]       1,180,160\n",
      "      BatchNorm2d-26          [-1, 512, 28, 28]           1,024\n",
      "             ReLU-27          [-1, 512, 28, 28]               0\n",
      "           Conv2d-28          [-1, 512, 28, 28]       2,359,808\n",
      "      BatchNorm2d-29          [-1, 512, 28, 28]           1,024\n",
      "             ReLU-30          [-1, 512, 28, 28]               0\n",
      "           Conv2d-31          [-1, 512, 28, 28]       2,359,808\n",
      "      BatchNorm2d-32          [-1, 512, 28, 28]           1,024\n",
      "             ReLU-33          [-1, 512, 28, 28]               0\n",
      "        MaxPool2d-34          [-1, 512, 14, 14]               0\n",
      "           Conv2d-35          [-1, 512, 14, 14]       2,359,808\n",
      "      BatchNorm2d-36          [-1, 512, 14, 14]           1,024\n",
      "             ReLU-37          [-1, 512, 14, 14]               0\n",
      "           Conv2d-38          [-1, 512, 14, 14]       2,359,808\n",
      "      BatchNorm2d-39          [-1, 512, 14, 14]           1,024\n",
      "             ReLU-40          [-1, 512, 14, 14]               0\n",
      "           Conv2d-41          [-1, 512, 14, 14]       2,359,808\n",
      "      BatchNorm2d-42          [-1, 512, 14, 14]           1,024\n",
      "             ReLU-43          [-1, 512, 14, 14]               0\n",
      "        MaxPool2d-44            [-1, 512, 7, 7]               0\n",
      "AdaptiveAvgPool2d-45            [-1, 512, 7, 7]               0\n",
      "           Linear-46                 [-1, 4096]     102,764,544\n",
      "             ReLU-47                 [-1, 4096]               0\n",
      "          Dropout-48                 [-1, 4096]               0\n",
      "           Linear-49                 [-1, 4096]      16,781,312\n",
      "             ReLU-50                 [-1, 4096]               0\n",
      "          Dropout-51                 [-1, 4096]               0\n",
      "           Linear-52                 [-1, 1000]       4,097,000\n",
      "================================================================\n",
      "Total params: 138,365,992\n",
      "Trainable params: 138,365,992\n",
      "Non-trainable params: 0\n",
      "----------------------------------------------------------------\n",
      "Input size (MB): 0.57\n",
      "Forward/backward pass size (MB): 322.14\n",
      "Params size (MB): 527.82\n",
      "Estimated Total Size (MB): 850.54\n",
      "----------------------------------------------------------------\n",
      "None\n",
      "FLOPS: 31076054016\n",
      " Conv_layers: 13\n",
      " linear_layers: 3\n",
      " Total prune layers: 16\n"
     ]
    }
   ],
   "source": [
    "obj_params = ModelParams(model, args.model_input)\n",
    "flops, conv_layers, linear_layers = obj_params.get_all_params()\n",
    "print(f\"FLOPS: {flops}\\n Conv_layers: {conv_layers}\\n linear_layers: {linear_layers}\\n Total prune layers: {conv_layers+linear_layers}\")"
   ]
  },
  {
   "attachments": {},
   "cell_type": "markdown",
   "id": "2c84b902",
   "metadata": {},
   "source": [
    "###  Dataset creation"
   ]
  },
  {
   "cell_type": "code",
   "execution_count": 4,
   "id": "55076029",
   "metadata": {},
   "outputs": [
    {
     "name": "stdout",
     "output_type": "stream",
     "text": [
      "Files already downloaded and verified\n",
      "Files already downloaded and verified\n"
     ]
    }
   ],
   "source": [
    "train_loader,test_loader = get_dataset(args)"
   ]
  },
  {
   "attachments": {},
   "cell_type": "markdown",
   "id": "f9d36e69",
   "metadata": {},
   "source": [
    "### 4. Training unpruned model"
   ]
  },
  {
   "cell_type": "code",
   "execution_count": 5,
   "id": "937e04a9",
   "metadata": {},
   "outputs": [
    {
     "name": "stdout",
     "output_type": "stream",
     "text": [
      "Epoch: [1/2]\t || Training Loss: 0.776\t || Val Loss: 0.313\t || Training Acc: 75.55% \t ||  Val Acc 89.31%\n",
      "Epoch: [2/2]\t || Training Loss: 0.304\t || Val Loss: 0.247\t || Training Acc: 89.89% \t ||  Val Acc 91.45%\n"
     ]
    }
   ],
   "source": [
    "train_model(args,\n",
    "            train_loader = train_loader,\n",
    "            test_loader = test_loader,\n",
    "            model = model)"
   ]
  },
  {
   "attachments": {},
   "cell_type": "markdown",
   "id": "dd2dcaf6",
   "metadata": {},
   "source": [
    "### 5. Model pruning"
   ]
  },
  {
   "cell_type": "code",
   "execution_count": 6,
   "id": "e61fff7c",
   "metadata": {},
   "outputs": [],
   "source": [
    "model_name = ''\n",
    "model = torch.load(f'models/{model_name}.pth')\n",
    "#list_pruning = [0.6,0.6,0.53,0.53,0.4,0.4,0.4,0.5,0.5,0.5,0.6,0.6,0.6,0.5,0.5,0]\n",
    "#args.list_pruning = list_pruning\n",
    "#args.pruned_model_name = \"VGG16_DISTRI_1\"\n",
    "args.model_type = f'50_PRUNED_SEED_{args.seed}'\n",
    "prune_model(model, args)"
   ]
  },
  {
   "attachments": {},
   "cell_type": "markdown",
   "id": "56c3f6ba",
   "metadata": {},
   "source": [
    "#### 5.1. FLOPs verification, number of conv and linear layers"
   ]
  },
  {
   "cell_type": "code",
   "execution_count": 7,
   "id": "a390de3c",
   "metadata": {},
   "outputs": [
    {
     "name": "stderr",
     "output_type": "stream",
     "text": [
      "Unsupported operator aten::add encountered 12 time(s)\n",
      "Unsupported operator aten::max_pool2d encountered 5 time(s)\n"
     ]
    },
    {
     "name": "stdout",
     "output_type": "stream",
     "text": [
      "----------------------------------------------------------------\n",
      "        Layer (type)               Output Shape         Param #\n",
      "================================================================\n",
      "            Conv2d-1         [-1, 26, 224, 224]             728\n",
      "       BatchNorm2d-2         [-1, 26, 224, 224]              52\n",
      "              ReLU-3         [-1, 26, 224, 224]               0\n",
      "             ConvB-4         [-1, 26, 224, 224]           6,084\n",
      "       BatchNorm2d-5         [-1, 26, 224, 224]              52\n",
      "              ReLU-6         [-1, 26, 224, 224]               0\n",
      "         MaxPool2d-7         [-1, 26, 112, 112]               0\n",
      "             ConvB-8         [-1, 60, 112, 112]          14,040\n",
      "       BatchNorm2d-9         [-1, 60, 112, 112]             120\n",
      "             ReLU-10         [-1, 60, 112, 112]               0\n",
      "            ConvB-11         [-1, 60, 112, 112]          32,400\n",
      "      BatchNorm2d-12         [-1, 60, 112, 112]             120\n",
      "             ReLU-13         [-1, 60, 112, 112]               0\n",
      "        MaxPool2d-14           [-1, 60, 56, 56]               0\n",
      "            ConvB-15          [-1, 154, 56, 56]          83,160\n",
      "      BatchNorm2d-16          [-1, 154, 56, 56]             308\n",
      "             ReLU-17          [-1, 154, 56, 56]               0\n",
      "            ConvB-18          [-1, 154, 56, 56]         213,444\n",
      "      BatchNorm2d-19          [-1, 154, 56, 56]             308\n",
      "             ReLU-20          [-1, 154, 56, 56]               0\n",
      "            ConvB-21          [-1, 154, 56, 56]         213,444\n",
      "      BatchNorm2d-22          [-1, 154, 56, 56]             308\n",
      "             ReLU-23          [-1, 154, 56, 56]               0\n",
      "        MaxPool2d-24          [-1, 154, 28, 28]               0\n",
      "            ConvB-25          [-1, 256, 28, 28]         354,816\n",
      "      BatchNorm2d-26          [-1, 256, 28, 28]             512\n",
      "             ReLU-27          [-1, 256, 28, 28]               0\n",
      "            ConvB-28          [-1, 256, 28, 28]         589,824\n",
      "      BatchNorm2d-29          [-1, 256, 28, 28]             512\n",
      "             ReLU-30          [-1, 256, 28, 28]               0\n",
      "            ConvB-31          [-1, 256, 28, 28]         589,824\n",
      "      BatchNorm2d-32          [-1, 256, 28, 28]             512\n",
      "             ReLU-33          [-1, 256, 28, 28]               0\n",
      "        MaxPool2d-34          [-1, 256, 14, 14]               0\n",
      "            ConvB-35          [-1, 205, 14, 14]         472,320\n",
      "      BatchNorm2d-36          [-1, 205, 14, 14]             410\n",
      "             ReLU-37          [-1, 205, 14, 14]               0\n",
      "            ConvB-38          [-1, 205, 14, 14]         378,225\n",
      "      BatchNorm2d-39          [-1, 205, 14, 14]             410\n",
      "             ReLU-40          [-1, 205, 14, 14]               0\n",
      "            ConvB-41          [-1, 205, 14, 14]         378,225\n",
      "      BatchNorm2d-42          [-1, 205, 14, 14]             410\n",
      "             ReLU-43          [-1, 205, 14, 14]               0\n",
      "        MaxPool2d-44            [-1, 205, 7, 7]               0\n",
      "AdaptiveAvgPool2d-45            [-1, 205, 7, 7]               0\n",
      "           Linear-46                 [-1, 2048]      20,574,208\n",
      "             ReLU-47                 [-1, 2048]               0\n",
      "          Dropout-48                 [-1, 2048]               0\n",
      "           Linear-49                 [-1, 2048]       4,196,352\n",
      "             ReLU-50                 [-1, 2048]               0\n",
      "          Dropout-51                 [-1, 2048]               0\n",
      "           Linear-52                 [-1, 1000]       2,049,000\n",
      "================================================================\n",
      "Total params: 30,150,128\n",
      "Trainable params: 30,150,128\n",
      "Non-trainable params: 0\n",
      "----------------------------------------------------------------\n",
      "Input size (MB): 0.57\n",
      "Forward/backward pass size (MB): 149.36\n",
      "Params size (MB): 115.01\n",
      "Estimated Total Size (MB): 264.94\n",
      "----------------------------------------------------------------\n",
      "None\n",
      "FLOPS: 8011606522\n",
      " Conv_layers: 13\n",
      " linear_layers: 3\n",
      " Total prune layers: 16\n"
     ]
    }
   ],
   "source": [
    "obj_params = ModelParams(model, args.model_input)\n",
    "flops, conv_layers, linear_layers = obj_params.get_all_params()\n",
    "print(f\"FLOPS: {flops}\\n Conv_layers: {conv_layers}\\n linear_layers: {linear_layers}\\n Total prune layers: {conv_layers+linear_layers}\")"
   ]
  },
  {
   "attachments": {},
   "cell_type": "markdown",
   "id": "08580e8f",
   "metadata": {},
   "source": [
    "### 6. Training the pruned model"
   ]
  },
  {
   "cell_type": "code",
   "execution_count": 8,
   "id": "a86a64d5",
   "metadata": {},
   "outputs": [
    {
     "name": "stdout",
     "output_type": "stream",
     "text": [
      "Epoch: [1/2]\t || Training Loss: 1.623\t || Val Loss: 1.083\t || Training Acc: 41.20% \t ||  Val Acc 60.87%\n",
      "Epoch: [2/2]\t || Training Loss: 1.036\t || Val Loss: 0.774\t || Training Acc: 63.16% \t ||  Val Acc 72.56%\n"
     ]
    }
   ],
   "source": [
    "args.model_type = f'50_PRUNED_FT_SEED_{args.seed}'\n",
    "\n",
    "train_model(args,\n",
    "            train_loader = train_loader,\n",
    "            test_loader = test_loader,\n",
    "            model = model)\n"
   ]
  },
  {
   "cell_type": "code",
   "execution_count": null,
   "id": "4a5e44d6",
   "metadata": {},
   "outputs": [],
   "source": []
  }
 ],
 "metadata": {
  "kernelspec": {
   "display_name": "Python 3 (ipykernel)",
   "language": "python",
   "name": "python3"
  },
  "language_info": {
   "codemirror_mode": {
    "name": "ipython",
    "version": 3
   },
   "file_extension": ".py",
   "mimetype": "text/x-python",
   "name": "python",
   "nbconvert_exporter": "python",
   "pygments_lexer": "ipython3",
   "version": "3.9.12"
  }
 },
 "nbformat": 4,
 "nbformat_minor": 5
}
