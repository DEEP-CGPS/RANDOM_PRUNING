{
 "cells": [
  {
   "cell_type": "markdown",
   "id": "fa2177c1",
   "metadata": {},
   "source": [
    "## 1- Definition of arguments for function usage"
   ]
  },
  {
   "cell_type": "code",
   "execution_count": 1,
   "id": "f38d2073",
   "metadata": {},
   "outputs": [],
   "source": [
    "import sys\n",
    "import torch\n",
    "import torch.optim as optim\n",
    "import torchvision\n",
    "from torchvision import transforms\n",
    "from utils import *\n",
    "import argparse\n",
    "sys.argv = ['']\n",
    "\n",
    "parser = argparse.ArgumentParser(description='Parameters training')\n",
    "parser.add_argument('--model_architecture', type=str, default=\"VGG16\", help='....')\n",
    "parser.add_argument('--dataset', type=str, default=\"CIFAR10\", help='....')\n",
    "parser.add_argument('--batch_size', type=int, default=8, help='....')\n",
    "parser.add_argument('--num_epochs', type=int, default=40, help='....')\n",
    "parser.add_argument('--learning_rate', type=float, default=1e-3, help='....')\n",
    "parser.add_argument('--optimizer_val', type=str, default=\"SGD\", help='....')\n",
    "parser.add_argument('--model_type', type=str, default=\"UNPRUNED\", help='....')\n",
    "parser.add_argument('--device', type=str, default=None, help='....')\n",
    "parser.add_argument('--model_input', default=torch.ones((1, 3, 224, 224)), help='....')\n",
    "parser.add_argument('--eval_metric', default=\"accuracy\", help='....')\n",
    "parser.add_argument('--pruning_seed', type=int, default=23, help='....')\n",
    "parser.add_argument('--list_pruning', type=list, default = [0.6,0.6,0.53,0.53,0.4,0.4,0.4,0.5,0.5,0.5,0.6,0.6,0.6,0.5,0.5,0], help='....')\n",
    "\n",
    "args = parser.parse_args()\n",
    "\n",
    "if args.device is None:\n",
    "    import torch\n",
    "    args.device = torch.device(\"cuda\" if torch.cuda.is_available() else \"cpu\")"
   ]
  },
  {
   "cell_type": "markdown",
   "id": "e7e39dd0",
   "metadata": {},
   "source": [
    "## Get Model, DATASET and TRAIN"
   ]
  },
  {
   "cell_type": "code",
   "execution_count": 2,
   "id": "b83c6104",
   "metadata": {},
   "outputs": [],
   "source": [
    "#args.pruned_model_name = \"VGG16_DISTRI_1\"\n",
    "#args.num_epochs = 40\n",
    "args.dataset = \"Tomato_Leaves\"\n",
    "args.eval_metric = \"f1_score\""
   ]
  },
  {
   "cell_type": "code",
   "execution_count": 3,
   "id": "f1f33976",
   "metadata": {},
   "outputs": [],
   "source": [
    "model = get_model(args)"
   ]
  },
  {
   "cell_type": "code",
   "execution_count": 4,
   "id": "52085222",
   "metadata": {},
   "outputs": [],
   "source": [
    "train_loader, test_loader, num_classes = get_dataset(args)"
   ]
  },
  {
   "cell_type": "code",
   "execution_count": null,
   "id": "c28d3408",
   "metadata": {},
   "outputs": [
    {
     "name": "stdout",
     "output_type": "stream",
     "text": [
      "Epoch: [1/40]\t || Training Loss: 0.373\t || Val Loss: 0.154\t || Training F1-score: 0.863 \t ||  Val F1-score: 0.943 \t || Time: 00:07:12\n",
      "Model Name: VGG16_Tomato_Leaves_UNPRUNED\n"
     ]
    }
   ],
   "source": [
    "train_model(args,\n",
    "            train_loader = train_loader,\n",
    "            test_loader = test_loader,\n",
    "            model = model,\n",
    "            num_classes = num_classes)"
   ]
  },
  {
   "cell_type": "markdown",
   "id": "28a4afb3",
   "metadata": {},
   "source": [
    "## Pruning with multiple seeds"
   ]
  },
  {
   "cell_type": "code",
   "execution_count": null,
   "id": "fbe716f0",
   "metadata": {},
   "outputs": [],
   "source": []
  },
  {
   "cell_type": "code",
   "execution_count": null,
   "id": "629f836d",
   "metadata": {
    "scrolled": true
   },
   "outputs": [],
   "source": [
    "list_seeds = [23,42,97,112,167,214,256,333,425,512]\n",
    "original_model_name = 'VGG16_Tomato_Leaves_UNPRUNED'\n",
    "for seed in list_seeds:\n",
    "    #load original model\n",
    "    model = torch.load(f'models/{original_model_name}.pth')\n",
    "    args.seed = seed\n",
    "    args.model_type = f'50_PRUNED_SEED_{seed}'\n",
    "    #prune original model\n",
    "    prune_model(model, args)\n",
    "    args.model_type = f'50_PRUNED_FT_SEED_{seed}'\n",
    "    #retraining pruned model\n",
    "    train_model(args,\n",
    "                train_loader = train_loader,\n",
    "                test_loader = test_loader,\n",
    "                model = model,\n",
    "                num_classes = num_classes)"
   ]
  },
  {
   "cell_type": "code",
   "execution_count": null,
   "id": "3b747200",
   "metadata": {},
   "outputs": [],
   "source": []
  }
 ],
 "metadata": {
  "kernelspec": {
   "display_name": "Python 3 (ipykernel)",
   "language": "python",
   "name": "python3"
  },
  "language_info": {
   "codemirror_mode": {
    "name": "ipython",
    "version": 3
   },
   "file_extension": ".py",
   "mimetype": "text/x-python",
   "name": "python",
   "nbconvert_exporter": "python",
   "pygments_lexer": "ipython3",
   "version": "3.9.13"
  }
 },
 "nbformat": 4,
 "nbformat_minor": 5
}
