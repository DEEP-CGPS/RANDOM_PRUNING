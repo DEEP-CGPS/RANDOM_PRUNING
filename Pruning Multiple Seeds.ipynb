{
 "cells": [
  {
   "cell_type": "markdown",
   "id": "fa2177c1",
   "metadata": {},
   "source": [
    "## 1- Definition of arguments for function usage"
   ]
  },
  {
   "cell_type": "code",
   "execution_count": null,
   "id": "f38d2073",
   "metadata": {},
   "outputs": [],
   "source": [
    "import sys\n",
    "import torch\n",
    "import torch.optim as optim\n",
    "import torchvision\n",
    "from torchvision import transforms\n",
    "from utils import *\n",
    "import argparse\n",
    "sys.argv = ['']\n",
    "\n",
    "parser = argparse.ArgumentParser(description='Parameters training')\n",
    "parser.add_argument('--model_architecture', type=str, default=\"VGG16\", help='....')\n",
    "parser.add_argument('--method', type=str, default=\"random\", help='....')\n",
    "parser.add_argument('--dataset', type=str, default=\"CIFAR10\", help='....')\n",
    "parser.add_argument('--batch_size', type=int, default=8, help='....')\n",
    "parser.add_argument('--num_epochs', type=int, default=40, help='....')\n",
    "parser.add_argument('--learning_rate', type=float, default=1e-3, help='....')\n",
    "parser.add_argument('--optimizer_val', type=str, default=\"SGD\", help='....')\n",
    "parser.add_argument('--model_type', type=str, default=\"UNPRUNED\", help='....')\n",
    "parser.add_argument('--device', type=str, default=None, help='....')\n",
    "parser.add_argument('--model_input', default=torch.ones((1, 3, 224, 224)), help='....')\n",
    "parser.add_argument('--eval_metric', default=\"accuracy\", help='....')\n",
    "parser.add_argument('--pruning_seed', type=int, default=23, help='....')\n",
    "parser.add_argument('--list_pruning', type=list, default = [0.6,0.6,0.53,0.53,0.4,0.4,0.4,0.5,0.5,0.5,0.6,0.6,0.6,0.5,0.5,0], help='....')\n",
    "\n",
    "args = parser.parse_args()\n",
    "\n",
    "if args.device is None:\n",
    "    import torch\n",
    "    args.device = torch.device(\"cuda\" if torch.cuda.is_available() else \"cpu\")"
   ]
  },
  {
   "cell_type": "code",
   "execution_count": null,
   "id": "b83c6104",
   "metadata": {},
   "outputs": [],
   "source": [
    "# Modify for training\n",
    "#args.model_architecture = \"ResNet18\"\n",
    "#args.num_epochs = 40\n",
    "\n",
    "#methods:  weight, SenpisFaster, random\n",
    "args.method = 'SenpisFaster'\n",
    "args.dataset = \"Date_Fruit_7classes\"\n",
    "args.eval_metric = \"f1_score\"\n",
    "custom_split = 1    # 1: if dataset is already divided into train and test folders, \n",
    "                    # 0: if all the images of the dataset are in a single folder\n",
    "\n"
   ]
  },
  {
   "cell_type": "markdown",
   "id": "e7e39dd0",
   "metadata": {},
   "source": [
    "## Get Model, DATASET and TRAIN"
   ]
  },
  {
   "cell_type": "code",
   "execution_count": null,
   "id": "52085222",
   "metadata": {},
   "outputs": [],
   "source": [
    "if args.method != 'SenpisFaster':\n",
    "    train_loader, test_loader, num_classes, _ = get_dataset(args, custom_split = custom_split)\n",
    "    trainset = None\n",
    "else:\n",
    "    train_loader, test_loader, num_classes, trainset = get_dataset(args, custom_split = custom_split)"
   ]
  },
  {
   "cell_type": "code",
   "execution_count": null,
   "id": "f1f33976",
   "metadata": {},
   "outputs": [],
   "source": [
    "model = get_model(num_classes, args)"
   ]
  },
  {
   "cell_type": "code",
   "execution_count": null,
   "id": "c28d3408",
   "metadata": {
    "scrolled": true
   },
   "outputs": [],
   "source": [
    "train_model(train_loader = train_loader,\n",
    "            test_loader = test_loader,\n",
    "            model = model,\n",
    "            num_classes = num_classes,\n",
    "            args = args)"
   ]
  },
  {
   "cell_type": "markdown",
   "id": "28a4afb3",
   "metadata": {},
   "source": [
    "## Pruning with multiple seeds"
   ]
  },
  {
   "cell_type": "code",
   "execution_count": null,
   "id": "8a18d019",
   "metadata": {},
   "outputs": [],
   "source": [
    "#dist 20%\n",
    "dict_distri = {\n",
    "                \"HOMOGENEA\":[0.2,0.2,0.2,0.2,0.2,0.2,0.2,0.2,0.2,0.2,0.2,0.2,0.2,0.2,0.2,0],\n",
    "                \"CRECIENTE\" : [0.15,0.15,0.17,0.17,0.2,0.2,0.2,0.22,0.22,0.22,0.3,0.3,0.31,0.2,0.2,0],\n",
    "                \"DECRECIENTE\" : [0.35,0.35,0.25,0.25,0.2,0.2,0.2,0.13,0.13,0.12,0.1,0.1,0.09,0.2,0.2,0],\n",
    "                \"MENOS_MAS_MENOS\" : [0.15,0.15,0.15,0.15,0.34,0.34,0.34,0.15,0.15,0.15,0.1,0.09,0.09,0.2,0.2,0],\n",
    "                \"MAS_MENOS_MAS\" : [0.35,0.35,0.2,0.2,0.11,0.11,0.1,0.19,0.2,0.2,0.31,0.31,0.31,0.2,0.2,0]}\n",
    "\n",
    "base_percentage = 20"
   ]
  },
  {
   "cell_type": "code",
   "execution_count": null,
   "id": "fbe716f0",
   "metadata": {},
   "outputs": [],
   "source": [
    "#dist 30%\n",
    "dict_distri = {\"HOMOGENEA\" : [0.3,0.3,0.3,0.3,0.3,0.3,0.3,0.3,0.3,0.3,0.3,0.3,0.3,0.3,0.3,0],\n",
    "                \"CRECIENTE\" : [0.15,0.15,0.2,0.2,0.3,0.3,0.3,0.43,0.43,0.44,0.45,0.45,0.46,0.3,0.3,0],\n",
    "                \"DECRECIENTE\" : [0.45,0.45,0.35,0.35,0.3,0.3,0.3,0.25,0.25,0.25,0.16,0.16,0.13,0.3,0.3,0],\n",
    "                \"MENOS_MAS_MENOS\" : [0.15,0.15,0.3,0.3,0.45,0.45,0.45,0.28,0.28,0.27,0.2,0.19,0.15,0.3,0.3,0],\n",
    "                \"MAS_MENOS_MAS\" : [0.4,0.4,0.2,0.2,0.3,0.3,0.3,0.3,0.3,0.3,0.37,0.37,0.36,0.3,0.3,0]}\n",
    "\n",
    "base_percentage = 30"
   ]
  },
  {
   "cell_type": "code",
   "execution_count": null,
   "id": "805394c2",
   "metadata": {},
   "outputs": [],
   "source": [
    "#dist 50%\n",
    "dict_distri = {\"HOMOGENEA\" : [0.5,0.5,0.5,0.5,0.5,0.5,0.5,0.5,0.5,0.5,0.5,0.5,0.5,0.5,0.5,0],\n",
    "                \"CRECIENTE\" : [0.15,0.35,0.4,0.4,0.5,0.5,0.5,0.7,0.7,0.7,0.7,0.7,0.7,0.5,0.5,0],\n",
    "                \"DECRECIENTE\" : [0.65,0.65,0.55,0.55,0.5,0.5,0.5,0.45,0.44,0.43,0.36,0.35,0.35,0.5,0.5,0],\n",
    "                \"MENOS_MAS_MENOS\" : [0.3,0.3,0.42,0.42,0.65,0.65,0.65,0.6,0.6,0.6,0.3,0.3,0.3,0.5,0.5,0],\n",
    "                \"MAS_MENOS_MAS\" : [0.6,0.6,0.53,0.53,0.4,0.4,0.4,0.5,0.5,0.51,0.63,0.64,0.64,0.5,0.5,0]}\n",
    "\n",
    "base_percentage = 50"
   ]
  },
  {
   "cell_type": "code",
   "execution_count": null,
   "id": "629f836d",
   "metadata": {},
   "outputs": [],
   "source": [
    "if args.method != 'random':\n",
    "    list_seeds = [23]\n",
    "else:\n",
    "    list_seeds = [23,42,97,112,167]\n",
    "    \n",
    "    \n",
    "for distri in dict_distri:\n",
    "    args.list_pruning = dict_distri[distri]\n",
    "    type_pruning = distri\n",
    "    original_model_name = f'{args.model_architecture}_{args.dataset}_UNPRUNED'\n",
    "    \n",
    "    for seed in list_seeds:\n",
    "        #load original model\n",
    "        model = torch.load(f'models/{args.dataset}/{original_model_name}.pth')\n",
    "        model.to(args.device)\n",
    "        args.seed = seed\n",
    "        args.model_type = f'{type_pruning}_{base_percentage}_PRUNED_SEED_{seed}'\n",
    "        #prune original model\n",
    "        prune_model(model, num_classes, trainset, args)\n",
    "        args.model_type = f'{type_pruning}_{base_percentage}_PRUNED_FT_SEED_{seed}'\n",
    "        #retraining pruned model\n",
    "        train_model(train_loader = train_loader,\n",
    "                    test_loader = test_loader,\n",
    "                    model = model,\n",
    "                    num_classes = num_classes,\n",
    "                    args = args)\n",
    "        print('============================')"
   ]
  },
  {
   "cell_type": "code",
   "execution_count": null,
   "id": "62133dc0",
   "metadata": {},
   "outputs": [],
   "source": []
  }
 ],
 "metadata": {
  "kernelspec": {
   "display_name": "Python 3 (ipykernel)",
   "language": "python",
   "name": "python3"
  },
  "language_info": {
   "codemirror_mode": {
    "name": "ipython",
    "version": 3
   },
   "file_extension": ".py",
   "mimetype": "text/x-python",
   "name": "python",
   "nbconvert_exporter": "python",
   "pygments_lexer": "ipython3",
   "version": "3.9.13"
  }
 },
 "nbformat": 4,
 "nbformat_minor": 5
}
