{
 "cells": [
  {
   "cell_type": "code",
   "execution_count": 1,
   "id": "5c70cba2",
   "metadata": {},
   "outputs": [],
   "source": [
    "import sys\n",
    "import torch\n",
    "import torch.optim as optim\n",
    "import torchvision\n",
    "import argparse\n",
    "import torch.nn as nn\n",
    "import pandas as pd\n",
    "import re\n",
    "import os\n",
    "import seaborn as sns\n",
    "from torchvision import transforms\n",
    "from matplotlib.pyplot import figure\n",
    "from matplotlib import pyplot as plt\n",
    "from utils import *\n",
    "\n",
    "sys.argv = ['']\n",
    "\n",
    "parser = argparse.ArgumentParser(description='Parameters training')\n",
    "parser.add_argument('--model_architecture', type=str, default=\"VGG16\", help='....')\n",
    "parser.add_argument('--dataset', type=str, default=\"CIFAR10\", help='....')\n",
    "parser.add_argument('--batch_size', type=int, default=8, help='....')\n",
    "parser.add_argument('--device', type=str, default=None, help='....')\n",
    "parser.add_argument('--eval_metric', default=\"accuracy\", help='....')\n",
    "\n",
    "args = parser.parse_args()\n",
    "\n",
    "if args.device is None:\n",
    "    import torch\n",
    "    args.device = torch.device(\"cuda\" if torch.cuda.is_available() else \"cpu\")"
   ]
  },
  {
   "cell_type": "code",
   "execution_count": 7,
   "id": "44f1460a",
   "metadata": {},
   "outputs": [],
   "source": [
    "##\n",
    "# Modify if necessary\n",
    "args.dataset = \"Date_Fruit_7classes\"\n",
    "args.eval_metric = \"f1_score\"\n",
    "base_percentage = 50\n",
    "custom_split = 1\n",
    "##\n",
    "\n",
    "\n",
    "model_directory = f\"models/{args.dataset}\"\n",
    "model_paths = []\n",
    "\n",
    "for filename in os.listdir(model_directory):\n",
    "    if filename.endswith(\".pth\"):\n",
    "        model_path = os.path.join(model_directory, filename)\n",
    "        model_paths.append(model_path)"
   ]
  },
  {
   "cell_type": "code",
   "execution_count": 3,
   "id": "bd9c4103",
   "metadata": {},
   "outputs": [],
   "source": [
    "_, test_loader, num_classes = get_dataset(args, custom_split = custom_split)"
   ]
  },
  {
   "cell_type": "code",
   "execution_count": 8,
   "id": "b09d9ef4",
   "metadata": {
    "scrolled": false
   },
   "outputs": [
    {
     "data": {
      "text/html": [
       "<div>\n",
       "<style scoped>\n",
       "    .dataframe tbody tr th:only-of-type {\n",
       "        vertical-align: middle;\n",
       "    }\n",
       "\n",
       "    .dataframe tbody tr th {\n",
       "        vertical-align: top;\n",
       "    }\n",
       "\n",
       "    .dataframe thead th {\n",
       "        text-align: right;\n",
       "    }\n",
       "</style>\n",
       "<table border=\"1\" class=\"dataframe\">\n",
       "  <thead>\n",
       "    <tr style=\"text-align: right;\">\n",
       "      <th></th>\n",
       "      <th>model_paths</th>\n",
       "      <th>model_type</th>\n",
       "      <th>finetuned</th>\n",
       "      <th>seed</th>\n",
       "    </tr>\n",
       "  </thead>\n",
       "  <tbody>\n",
       "    <tr>\n",
       "      <th>0</th>\n",
       "      <td>models/Date_Fruit_7classes\\VGG16_Date_Fruit_7c...</td>\n",
       "      <td>CRECIENTE</td>\n",
       "      <td>True</td>\n",
       "      <td>112</td>\n",
       "    </tr>\n",
       "    <tr>\n",
       "      <th>1</th>\n",
       "      <td>models/Date_Fruit_7classes\\VGG16_Date_Fruit_7c...</td>\n",
       "      <td>CRECIENTE</td>\n",
       "      <td>True</td>\n",
       "      <td>167</td>\n",
       "    </tr>\n",
       "    <tr>\n",
       "      <th>2</th>\n",
       "      <td>models/Date_Fruit_7classes\\VGG16_Date_Fruit_7c...</td>\n",
       "      <td>CRECIENTE</td>\n",
       "      <td>True</td>\n",
       "      <td>23</td>\n",
       "    </tr>\n",
       "    <tr>\n",
       "      <th>3</th>\n",
       "      <td>models/Date_Fruit_7classes\\VGG16_Date_Fruit_7c...</td>\n",
       "      <td>CRECIENTE</td>\n",
       "      <td>True</td>\n",
       "      <td>42</td>\n",
       "    </tr>\n",
       "    <tr>\n",
       "      <th>4</th>\n",
       "      <td>models/Date_Fruit_7classes\\VGG16_Date_Fruit_7c...</td>\n",
       "      <td>CRECIENTE</td>\n",
       "      <td>True</td>\n",
       "      <td>97</td>\n",
       "    </tr>\n",
       "    <tr>\n",
       "      <th>5</th>\n",
       "      <td>models/Date_Fruit_7classes\\VGG16_Date_Fruit_7c...</td>\n",
       "      <td>DECRECIENTE</td>\n",
       "      <td>True</td>\n",
       "      <td>112</td>\n",
       "    </tr>\n",
       "    <tr>\n",
       "      <th>6</th>\n",
       "      <td>models/Date_Fruit_7classes\\VGG16_Date_Fruit_7c...</td>\n",
       "      <td>DECRECIENTE</td>\n",
       "      <td>True</td>\n",
       "      <td>167</td>\n",
       "    </tr>\n",
       "    <tr>\n",
       "      <th>7</th>\n",
       "      <td>models/Date_Fruit_7classes\\VGG16_Date_Fruit_7c...</td>\n",
       "      <td>DECRECIENTE</td>\n",
       "      <td>True</td>\n",
       "      <td>23</td>\n",
       "    </tr>\n",
       "    <tr>\n",
       "      <th>8</th>\n",
       "      <td>models/Date_Fruit_7classes\\VGG16_Date_Fruit_7c...</td>\n",
       "      <td>DECRECIENTE</td>\n",
       "      <td>True</td>\n",
       "      <td>42</td>\n",
       "    </tr>\n",
       "    <tr>\n",
       "      <th>9</th>\n",
       "      <td>models/Date_Fruit_7classes\\VGG16_Date_Fruit_7c...</td>\n",
       "      <td>DECRECIENTE</td>\n",
       "      <td>True</td>\n",
       "      <td>97</td>\n",
       "    </tr>\n",
       "    <tr>\n",
       "      <th>10</th>\n",
       "      <td>models/Date_Fruit_7classes\\VGG16_Date_Fruit_7c...</td>\n",
       "      <td>HOMOGENEA</td>\n",
       "      <td>True</td>\n",
       "      <td>112</td>\n",
       "    </tr>\n",
       "    <tr>\n",
       "      <th>11</th>\n",
       "      <td>models/Date_Fruit_7classes\\VGG16_Date_Fruit_7c...</td>\n",
       "      <td>HOMOGENEA</td>\n",
       "      <td>True</td>\n",
       "      <td>167</td>\n",
       "    </tr>\n",
       "    <tr>\n",
       "      <th>12</th>\n",
       "      <td>models/Date_Fruit_7classes\\VGG16_Date_Fruit_7c...</td>\n",
       "      <td>HOMOGENEA</td>\n",
       "      <td>True</td>\n",
       "      <td>23</td>\n",
       "    </tr>\n",
       "    <tr>\n",
       "      <th>13</th>\n",
       "      <td>models/Date_Fruit_7classes\\VGG16_Date_Fruit_7c...</td>\n",
       "      <td>HOMOGENEA</td>\n",
       "      <td>True</td>\n",
       "      <td>42</td>\n",
       "    </tr>\n",
       "    <tr>\n",
       "      <th>14</th>\n",
       "      <td>models/Date_Fruit_7classes\\VGG16_Date_Fruit_7c...</td>\n",
       "      <td>HOMOGENEA</td>\n",
       "      <td>True</td>\n",
       "      <td>97</td>\n",
       "    </tr>\n",
       "    <tr>\n",
       "      <th>15</th>\n",
       "      <td>models/Date_Fruit_7classes\\VGG16_Date_Fruit_7c...</td>\n",
       "      <td>MAS_MENOS_MAS</td>\n",
       "      <td>True</td>\n",
       "      <td>112</td>\n",
       "    </tr>\n",
       "    <tr>\n",
       "      <th>16</th>\n",
       "      <td>models/Date_Fruit_7classes\\VGG16_Date_Fruit_7c...</td>\n",
       "      <td>MAS_MENOS_MAS</td>\n",
       "      <td>True</td>\n",
       "      <td>167</td>\n",
       "    </tr>\n",
       "    <tr>\n",
       "      <th>17</th>\n",
       "      <td>models/Date_Fruit_7classes\\VGG16_Date_Fruit_7c...</td>\n",
       "      <td>MAS_MENOS_MAS</td>\n",
       "      <td>True</td>\n",
       "      <td>23</td>\n",
       "    </tr>\n",
       "    <tr>\n",
       "      <th>18</th>\n",
       "      <td>models/Date_Fruit_7classes\\VGG16_Date_Fruit_7c...</td>\n",
       "      <td>MAS_MENOS_MAS</td>\n",
       "      <td>True</td>\n",
       "      <td>42</td>\n",
       "    </tr>\n",
       "    <tr>\n",
       "      <th>19</th>\n",
       "      <td>models/Date_Fruit_7classes\\VGG16_Date_Fruit_7c...</td>\n",
       "      <td>MAS_MENOS_MAS</td>\n",
       "      <td>True</td>\n",
       "      <td>97</td>\n",
       "    </tr>\n",
       "    <tr>\n",
       "      <th>20</th>\n",
       "      <td>models/Date_Fruit_7classes\\VGG16_Date_Fruit_7c...</td>\n",
       "      <td>MENOS_MAS_MENOS</td>\n",
       "      <td>True</td>\n",
       "      <td>112</td>\n",
       "    </tr>\n",
       "    <tr>\n",
       "      <th>21</th>\n",
       "      <td>models/Date_Fruit_7classes\\VGG16_Date_Fruit_7c...</td>\n",
       "      <td>MENOS_MAS_MENOS</td>\n",
       "      <td>True</td>\n",
       "      <td>167</td>\n",
       "    </tr>\n",
       "    <tr>\n",
       "      <th>22</th>\n",
       "      <td>models/Date_Fruit_7classes\\VGG16_Date_Fruit_7c...</td>\n",
       "      <td>MENOS_MAS_MENOS</td>\n",
       "      <td>True</td>\n",
       "      <td>23</td>\n",
       "    </tr>\n",
       "    <tr>\n",
       "      <th>23</th>\n",
       "      <td>models/Date_Fruit_7classes\\VGG16_Date_Fruit_7c...</td>\n",
       "      <td>MENOS_MAS_MENOS</td>\n",
       "      <td>True</td>\n",
       "      <td>42</td>\n",
       "    </tr>\n",
       "    <tr>\n",
       "      <th>24</th>\n",
       "      <td>models/Date_Fruit_7classes\\VGG16_Date_Fruit_7c...</td>\n",
       "      <td>MENOS_MAS_MENOS</td>\n",
       "      <td>True</td>\n",
       "      <td>97</td>\n",
       "    </tr>\n",
       "    <tr>\n",
       "      <th>25</th>\n",
       "      <td>models/Date_Fruit_7classes\\VGG16_Date_Fruit_7c...</td>\n",
       "      <td>VGG16_Date_Fruit_7classes_UNPRUNED</td>\n",
       "      <td>False</td>\n",
       "      <td>None</td>\n",
       "    </tr>\n",
       "  </tbody>\n",
       "</table>\n",
       "</div>"
      ],
      "text/plain": [
       "                                          model_paths  \\\n",
       "0   models/Date_Fruit_7classes\\VGG16_Date_Fruit_7c...   \n",
       "1   models/Date_Fruit_7classes\\VGG16_Date_Fruit_7c...   \n",
       "2   models/Date_Fruit_7classes\\VGG16_Date_Fruit_7c...   \n",
       "3   models/Date_Fruit_7classes\\VGG16_Date_Fruit_7c...   \n",
       "4   models/Date_Fruit_7classes\\VGG16_Date_Fruit_7c...   \n",
       "5   models/Date_Fruit_7classes\\VGG16_Date_Fruit_7c...   \n",
       "6   models/Date_Fruit_7classes\\VGG16_Date_Fruit_7c...   \n",
       "7   models/Date_Fruit_7classes\\VGG16_Date_Fruit_7c...   \n",
       "8   models/Date_Fruit_7classes\\VGG16_Date_Fruit_7c...   \n",
       "9   models/Date_Fruit_7classes\\VGG16_Date_Fruit_7c...   \n",
       "10  models/Date_Fruit_7classes\\VGG16_Date_Fruit_7c...   \n",
       "11  models/Date_Fruit_7classes\\VGG16_Date_Fruit_7c...   \n",
       "12  models/Date_Fruit_7classes\\VGG16_Date_Fruit_7c...   \n",
       "13  models/Date_Fruit_7classes\\VGG16_Date_Fruit_7c...   \n",
       "14  models/Date_Fruit_7classes\\VGG16_Date_Fruit_7c...   \n",
       "15  models/Date_Fruit_7classes\\VGG16_Date_Fruit_7c...   \n",
       "16  models/Date_Fruit_7classes\\VGG16_Date_Fruit_7c...   \n",
       "17  models/Date_Fruit_7classes\\VGG16_Date_Fruit_7c...   \n",
       "18  models/Date_Fruit_7classes\\VGG16_Date_Fruit_7c...   \n",
       "19  models/Date_Fruit_7classes\\VGG16_Date_Fruit_7c...   \n",
       "20  models/Date_Fruit_7classes\\VGG16_Date_Fruit_7c...   \n",
       "21  models/Date_Fruit_7classes\\VGG16_Date_Fruit_7c...   \n",
       "22  models/Date_Fruit_7classes\\VGG16_Date_Fruit_7c...   \n",
       "23  models/Date_Fruit_7classes\\VGG16_Date_Fruit_7c...   \n",
       "24  models/Date_Fruit_7classes\\VGG16_Date_Fruit_7c...   \n",
       "25  models/Date_Fruit_7classes\\VGG16_Date_Fruit_7c...   \n",
       "\n",
       "                            model_type  finetuned  seed  \n",
       "0                            CRECIENTE       True   112  \n",
       "1                            CRECIENTE       True   167  \n",
       "2                            CRECIENTE       True    23  \n",
       "3                            CRECIENTE       True    42  \n",
       "4                            CRECIENTE       True    97  \n",
       "5                          DECRECIENTE       True   112  \n",
       "6                          DECRECIENTE       True   167  \n",
       "7                          DECRECIENTE       True    23  \n",
       "8                          DECRECIENTE       True    42  \n",
       "9                          DECRECIENTE       True    97  \n",
       "10                           HOMOGENEA       True   112  \n",
       "11                           HOMOGENEA       True   167  \n",
       "12                           HOMOGENEA       True    23  \n",
       "13                           HOMOGENEA       True    42  \n",
       "14                           HOMOGENEA       True    97  \n",
       "15                       MAS_MENOS_MAS       True   112  \n",
       "16                       MAS_MENOS_MAS       True   167  \n",
       "17                       MAS_MENOS_MAS       True    23  \n",
       "18                       MAS_MENOS_MAS       True    42  \n",
       "19                       MAS_MENOS_MAS       True    97  \n",
       "20                     MENOS_MAS_MENOS       True   112  \n",
       "21                     MENOS_MAS_MENOS       True   167  \n",
       "22                     MENOS_MAS_MENOS       True    23  \n",
       "23                     MENOS_MAS_MENOS       True    42  \n",
       "24                     MENOS_MAS_MENOS       True    97  \n",
       "25  VGG16_Date_Fruit_7classes_UNPRUNED      False  None  "
      ]
     },
     "execution_count": 8,
     "metadata": {},
     "output_type": "execute_result"
    }
   ],
   "source": [
    "df = pd.DataFrame({'model_paths': model_paths})\n",
    "df['model_type'] = df['model_paths'].apply(lambda x: re.search(fr'(HOMOGENEA|CRECIENTE|DECRECIENTE|MAS_MENOS_MAS|MENOS_MAS_MENOS|{args.model_architecture}_{args.dataset}_UNPRUNED)', x).group())\n",
    "df['finetuned'] = df['model_paths'].apply(lambda x: 'FT' in x)\n",
    "df['seed'] = df['model_paths'].apply(lambda x: re.search(r'(?<=SEED_)\\d+', x).group() if re.search(r'(?<=SEED_)\\d+', x) else None)\n",
    "df"
   ]
  },
  {
   "cell_type": "code",
   "execution_count": 6,
   "id": "ca7c5ee7",
   "metadata": {
    "scrolled": false
   },
   "outputs": [
    {
     "name": "stderr",
     "output_type": "stream",
     "text": [
      "C:\\Users\\JavierP\\AppData\\Local\\Temp\\ipykernel_1916\\1741347685.py:8: SettingWithCopyWarning: \n",
      "A value is trying to be set on a copy of a slice from a DataFrame\n",
      "\n",
      "See the caveats in the documentation: https://pandas.pydata.org/pandas-docs/stable/user_guide/indexing.html#returning-a-view-versus-a-copy\n",
      "  df['metric'].iloc[i] = test_acc\n"
     ]
    },
    {
     "name": "stdout",
     "output_type": "stream",
     "text": [
      "f1_score del modelo models/Date_Fruit_7classes\\VGG16_Date_Fruit_7classes_CRECIENTE_50_PRUNED_FT_SEED_112.pth: 0.763\n",
      "f1_score del modelo models/Date_Fruit_7classes\\VGG16_Date_Fruit_7classes_CRECIENTE_50_PRUNED_FT_SEED_167.pth: 0.762\n",
      "f1_score del modelo models/Date_Fruit_7classes\\VGG16_Date_Fruit_7classes_CRECIENTE_50_PRUNED_FT_SEED_23.pth: 0.737\n",
      "f1_score del modelo models/Date_Fruit_7classes\\VGG16_Date_Fruit_7classes_CRECIENTE_50_PRUNED_FT_SEED_42.pth: 0.764\n",
      "f1_score del modelo models/Date_Fruit_7classes\\VGG16_Date_Fruit_7classes_CRECIENTE_50_PRUNED_FT_SEED_97.pth: 0.776\n",
      "f1_score del modelo models/Date_Fruit_7classes\\VGG16_Date_Fruit_7classes_DECRECIENTE_50_PRUNED_FT_SEED_112.pth: 0.812\n",
      "f1_score del modelo models/Date_Fruit_7classes\\VGG16_Date_Fruit_7classes_DECRECIENTE_50_PRUNED_FT_SEED_167.pth: 0.795\n",
      "f1_score del modelo models/Date_Fruit_7classes\\VGG16_Date_Fruit_7classes_DECRECIENTE_50_PRUNED_FT_SEED_23.pth: 0.809\n",
      "f1_score del modelo models/Date_Fruit_7classes\\VGG16_Date_Fruit_7classes_DECRECIENTE_50_PRUNED_FT_SEED_42.pth: 0.807\n",
      "f1_score del modelo models/Date_Fruit_7classes\\VGG16_Date_Fruit_7classes_DECRECIENTE_50_PRUNED_FT_SEED_97.pth: 0.822\n",
      "f1_score del modelo models/Date_Fruit_7classes\\VGG16_Date_Fruit_7classes_HOMOGENEA_50_PRUNED_FT_SEED_112.pth: 0.790\n",
      "f1_score del modelo models/Date_Fruit_7classes\\VGG16_Date_Fruit_7classes_HOMOGENEA_50_PRUNED_FT_SEED_167.pth: 0.779\n",
      "f1_score del modelo models/Date_Fruit_7classes\\VGG16_Date_Fruit_7classes_HOMOGENEA_50_PRUNED_FT_SEED_23.pth: 0.785\n",
      "f1_score del modelo models/Date_Fruit_7classes\\VGG16_Date_Fruit_7classes_HOMOGENEA_50_PRUNED_FT_SEED_42.pth: 0.802\n",
      "f1_score del modelo models/Date_Fruit_7classes\\VGG16_Date_Fruit_7classes_HOMOGENEA_50_PRUNED_FT_SEED_97.pth: 0.821\n",
      "f1_score del modelo models/Date_Fruit_7classes\\VGG16_Date_Fruit_7classes_MAS_MENOS_MAS_50_PRUNED_FT_SEED_112.pth: 0.784\n",
      "f1_score del modelo models/Date_Fruit_7classes\\VGG16_Date_Fruit_7classes_MAS_MENOS_MAS_50_PRUNED_FT_SEED_167.pth: 0.764\n",
      "f1_score del modelo models/Date_Fruit_7classes\\VGG16_Date_Fruit_7classes_MAS_MENOS_MAS_50_PRUNED_FT_SEED_23.pth: 0.771\n",
      "f1_score del modelo models/Date_Fruit_7classes\\VGG16_Date_Fruit_7classes_MAS_MENOS_MAS_50_PRUNED_FT_SEED_42.pth: 0.779\n",
      "f1_score del modelo models/Date_Fruit_7classes\\VGG16_Date_Fruit_7classes_MAS_MENOS_MAS_50_PRUNED_FT_SEED_97.pth: 0.799\n",
      "f1_score del modelo models/Date_Fruit_7classes\\VGG16_Date_Fruit_7classes_MENOS_MAS_MENOS_50_PRUNED_FT_SEED_112.pth: 0.785\n",
      "f1_score del modelo models/Date_Fruit_7classes\\VGG16_Date_Fruit_7classes_MENOS_MAS_MENOS_50_PRUNED_FT_SEED_167.pth: 0.814\n",
      "f1_score del modelo models/Date_Fruit_7classes\\VGG16_Date_Fruit_7classes_MENOS_MAS_MENOS_50_PRUNED_FT_SEED_23.pth: 0.790\n",
      "f1_score del modelo models/Date_Fruit_7classes\\VGG16_Date_Fruit_7classes_MENOS_MAS_MENOS_50_PRUNED_FT_SEED_42.pth: 0.803\n",
      "f1_score del modelo models/Date_Fruit_7classes\\VGG16_Date_Fruit_7classes_MENOS_MAS_MENOS_50_PRUNED_FT_SEED_97.pth: 0.801\n",
      "f1_score del modelo models/Date_Fruit_7classes\\VGG16_Date_Fruit_7classes_UNPRUNED.pth: 0.885\n"
     ]
    }
   ],
   "source": [
    "df['metric'] = 0\n",
    "criterion = nn.CrossEntropyLoss()\n",
    "for i,model_path in enumerate(model_paths):\n",
    "    model = torch.load(model_path)\n",
    "    test_loss, test_acc = test_epoch(model, args.device, test_loader, criterion, args.eval_metric, num_classes)\n",
    "    if torch.is_tensor(test_acc):\n",
    "        test_acc = test_acc.item()\n",
    "    df['metric'].iloc[i] = test_acc\n",
    "    print(f\"{args.eval_metric} del modelo {model_path}: {test_acc:.3f}\")"
   ]
  },
  {
   "cell_type": "code",
   "execution_count": 7,
   "id": "b61215d4",
   "metadata": {},
   "outputs": [],
   "source": [
    "if not os.path.exists(f\"results/{args.dataset}\"):\n",
    "    os.makedirs(f\"results/{args.dataset}\")\n",
    "df.to_csv(f'results/{args.dataset}/results_{args.dataset}_pruning_{base_percentage}.csv')"
   ]
  },
  {
   "cell_type": "code",
   "execution_count": 8,
   "id": "24df16e1",
   "metadata": {},
   "outputs": [],
   "source": [
    "df = pd.read_csv(f'results/{args.dataset}/results_{args.dataset}_pruning_{base_percentage}.csv')"
   ]
  },
  {
   "cell_type": "code",
   "execution_count": 9,
   "id": "3978fad5",
   "metadata": {},
   "outputs": [
    {
     "data": {
      "text/plain": [
       "CRECIENTE                             5\n",
       "DECRECIENTE                           5\n",
       "HOMOGENEA                             5\n",
       "MAS_MENOS_MAS                         5\n",
       "MENOS_MAS_MENOS                       5\n",
       "VGG16_Date_Fruit_7classes_UNPRUNED    1\n",
       "Name: model_type, dtype: int64"
      ]
     },
     "execution_count": 9,
     "metadata": {},
     "output_type": "execute_result"
    }
   ],
   "source": [
    "df.model_type.value_counts()"
   ]
  },
  {
   "cell_type": "code",
   "execution_count": 10,
   "id": "6e6da7c7",
   "metadata": {},
   "outputs": [],
   "source": [
    "model_type_names = {f'{args.model_architecture}_{args.dataset}_UNPRUNED':'original',\n",
    "                    'CRECIENTE':'PR_2',\n",
    "                    'DECRECIENTE':'PR_3',\n",
    "                    'HOMOGENEA':'PR_1',\n",
    "                    'MAS_MENOS_MAS':'PR_5',\n",
    "                    'MENOS_MAS_MENOS':'PR_4'\n",
    "                   }\n",
    "df.model_type = df.model_type.map(model_type_names)"
   ]
  },
  {
   "cell_type": "code",
   "execution_count": 11,
   "id": "7fa94f12",
   "metadata": {},
   "outputs": [],
   "source": [
    "df_pruned = df[(df.finetuned == True) | (df.model_type == 'original')][['model_type','metric']]"
   ]
  },
  {
   "cell_type": "code",
   "execution_count": 12,
   "id": "c991d691",
   "metadata": {},
   "outputs": [
    {
     "data": {
      "image/png": "[encoded data removed]",
      "text/plain": [
       "<Figure size 1000x500 with 1 Axes>"
      ]
     },
     "metadata": {},
     "output_type": "display_data"
    }
   ],
   "source": [
    "plt.rcParams['figure.figsize'] = [10, 5]\n",
    "\n",
    "\n",
    "ax = sns.boxplot(x='model_type', y='metric', data=df_pruned, order=[\"original\", \"PR_1\", \"PR_2\", \"PR_3\", \"PR_4\", \"PR_5\"])\n",
    "# add stripplot\n",
    "ax = sns.stripplot(x='model_type', y='metric', data=df_pruned, color=\"orange\", jitter=0.3, size=4, order=[\"original\", \"PR_1\", \"PR_2\", \"PR_3\", \"PR_4\", \"PR_5\"])\n",
    "\n",
    "ax.yaxis.grid(True) # Hide the horizontal gridlines\n",
    "ax.xaxis.grid(True) # Show the vertical gridlines\n",
    "# add title\n",
    "ax.set(xlabel='Pruning Distributions', ylabel=f'{args.eval_metric}')\n",
    "plt.savefig(f'results/{args.dataset}/PR_BOXPLOT.png', dpi=1000)\n",
    "# show the graph\n",
    "plt.show()\n"
   ]
  },
  {
   "cell_type": "code",
   "execution_count": 15,
   "id": "2e0c8b96",
   "metadata": {},
   "outputs": [],
   "source": [
    "df_seeds = df[(df.finetuned == True) | (df.model_type == 'original')][['seed','metric']]\n",
    "df_seeds = df_seeds.sort_values(by = 'seed')\n",
    "df_seeds.seed = df_seeds.apply(lambda x: str(int(x.seed)) if x.seed == x.seed else 'original', axis = 1 )"
   ]
  },
  {
   "cell_type": "code",
   "execution_count": 16,
   "id": "b1ea35df",
   "metadata": {},
   "outputs": [
    {
     "data": {
      "text/plain": [
       "['23', '42', '97', '112', '167', 'original']"
      ]
     },
     "execution_count": 16,
     "metadata": {},
     "output_type": "execute_result"
    }
   ],
   "source": [
    "df_seeds.seed.unique().tolist()\n"
   ]
  },
  {
   "cell_type": "code",
   "execution_count": 17,
   "id": "28e8e196",
   "metadata": {},
   "outputs": [],
   "source": [
    "#seed_type_names = {'23':'1',\n",
    "#                    '42':'2',\n",
    "#                    '97':'3',\n",
    "#                    '112':'4',\n",
    "#                    '167':'5',\n",
    "#                    '214':'6',\n",
    "#                    '256':'7',\n",
    "#                    '333':'8',\n",
    "#                    '425':'9',\n",
    "#                    '512':'10',\n",
    "#                    'original':'original'\n",
    "#                   }\n",
    "\n",
    "seed_type_names = {'23':'1',\n",
    "                    '42':'2',\n",
    "                    '97':'3',\n",
    "                    '112':'4',\n",
    "                    '167':'5',\n",
    "                    'original':'original'\n",
    "                   }"
   ]
  },
  {
   "cell_type": "code",
   "execution_count": 18,
   "id": "707748da",
   "metadata": {},
   "outputs": [],
   "source": [
    "df_seeds.seed = df_seeds.seed.map(seed_type_names)"
   ]
  },
  {
   "cell_type": "code",
   "execution_count": 19,
   "id": "dc1dd9e1",
   "metadata": {},
   "outputs": [
    {
     "data": {
      "image/png": "[encoded data removed]",
      "text/plain": [
       "<Figure size 1000x500 with 1 Axes>"
      ]
     },
     "metadata": {},
     "output_type": "display_data"
    }
   ],
   "source": [
    "plt.rcParams['figure.figsize'] = [10, 5]\n",
    "\n",
    "ax = sns.boxplot(x='seed', y='metric', data=df_seeds, order= ['original', '1', '2', '3', '4', '5', '6', '7', '8', '9', '10'])\n",
    "# add stripplot\n",
    "ax = sns.stripplot(x='seed', y='metric', data=df_seeds, color=\"orange\", jitter=0.3, size=4, order=  ['original', '1', '2', '3', '4', '5', '6', '7', '8', '9', '10'])\n",
    "\n",
    "ax.yaxis.grid(True) # Hide the horizontal gridlines\n",
    "ax.xaxis.grid(True) # Show the vertical gridlines\n",
    "# add title\n",
    "ax.set(xlabel='Seed', ylabel=f'{args.eval_metric}')\n",
    "# show the graph\n",
    "plt.savefig(f'results/{args.dataset}/SEED_BOXPLOT.png', dpi=1000)\n",
    "plt.show()\n"
   ]
  },
  {
   "cell_type": "code",
   "execution_count": null,
   "id": "3a97cfcc",
   "metadata": {},
   "outputs": [],
   "source": []
  }
 ],
 "metadata": {
  "kernelspec": {
   "display_name": "Python 3 (ipykernel)",
   "language": "python",
   "name": "python3"
  },
  "language_info": {
   "codemirror_mode": {
    "name": "ipython",
    "version": 3
   },
   "file_extension": ".py",
   "mimetype": "text/x-python",
   "name": "python",
   "nbconvert_exporter": "python",
   "pygments_lexer": "ipython3",
   "version": "3.9.13"
  }
 },
 "nbformat": 4,
 "nbformat_minor": 5
}
