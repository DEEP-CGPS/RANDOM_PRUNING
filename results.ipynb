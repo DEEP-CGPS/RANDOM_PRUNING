{
 "cells": [
  {
   "cell_type": "code",
   "execution_count": null,
   "id": "5c70cba2",
   "metadata": {},
   "outputs": [],
   "source": [
    "import sys\n",
    "import torch\n",
    "import torch.optim as optim\n",
    "import torchvision\n",
    "import argparse\n",
    "import torch.nn as nn\n",
    "import pandas as pd\n",
    "import re\n",
    "import os\n",
    "import seaborn as sns\n",
    "from torchvision import transforms\n",
    "from matplotlib.pyplot import figure\n",
    "from matplotlib import pyplot as plt\n",
    "from utils import *\n",
    "\n",
    "sys.argv = ['']\n",
    "\n",
    "parser = argparse.ArgumentParser(description='Parameters training')\n",
    "parser.add_argument('--model_architecture', type=str, default=\"VGG16\", help='....')\n",
    "parser.add_argument('--dataset', type=str, default=\"CIFAR10\", help='....')\n",
    "parser.add_argument('--batch_size', type=int, default=8, help='....')\n",
    "parser.add_argument('--device', type=str, default=None, help='....')\n",
    "parser.add_argument('--eval_metric', default=\"accuracy\", help='....')\n",
    "\n",
    "args = parser.parse_args()\n",
    "\n",
    "if args.device is None:\n",
    "    import torch\n",
    "    args.device = torch.device(\"cuda\" if torch.cuda.is_available() else \"cpu\")"
   ]
  },
  {
   "cell_type": "code",
   "execution_count": null,
   "id": "44f1460a",
   "metadata": {},
   "outputs": [],
   "source": [
    "##\n",
    "# Modify if necessary\n",
    "args.dataset = \"Date_Fruit_7classes\"\n",
    "args.eval_metric = \"f1_score\"\n",
    "custom_split = 1\n",
    "##\n",
    "\n",
    "\n",
    "model_directory = f\"models/{args.dataset}\"\n",
    "model_paths = []\n",
    "\n",
    "for filename in os.listdir(model_directory):\n",
    "    if filename.endswith(\".pth\"):\n",
    "        model_path = os.path.join(model_directory, filename)\n",
    "        model_paths.append(model_path)"
   ]
  },
  {
   "cell_type": "markdown",
   "id": "b140b9bc",
   "metadata": {},
   "source": [
    "# Results Dataframe"
   ]
  },
  {
   "cell_type": "code",
   "execution_count": null,
   "id": "bd9c4103",
   "metadata": {},
   "outputs": [],
   "source": [
    "_, test_loader, num_classes, _ = get_dataset(args, custom_split = custom_split)"
   ]
  },
  {
   "cell_type": "code",
   "execution_count": null,
   "id": "b09d9ef4",
   "metadata": {
    "scrolled": false
   },
   "outputs": [],
   "source": [
    "df = pd.DataFrame({'model_paths': model_paths})\n",
    "df['pruning_type'] = df['model_paths'].apply(lambda x: re.search(r'(random|weight|SenpisFaster)', x).group() if re.search(r'(random|weight|SenpisFaster)', x) else None)\n",
    "df['model_type'] = df['model_paths'].apply(lambda x: re.search(fr'(HOMOGENEA|CRECIENTE|DECRECIENTE|MAS_MENOS_MAS|MENOS_MAS_MENOS|UNPRUNED)', x).group())\n",
    "df['pr_base'] = df['model_paths'].apply(lambda x: re.search(r'(20|30|50)', x).group() if re.search(r'(20|30|50)', x) else None)\n",
    "df['seed'] = df['model_paths'].apply(lambda x: re.search(r'(?<=SEED_)\\d+', x).group() if re.search(r'(?<=SEED_)\\d+', x) else None)\n",
    "df['finetuned'] = df['model_paths'].apply(lambda x: 'FT' in x)\n",
    "df['dataset'] = df['model_paths'].apply(lambda x: re.search(fr'{args.dataset}', x).group())\n",
    "df"
   ]
  },
  {
   "cell_type": "code",
   "execution_count": null,
   "id": "ca7c5ee7",
   "metadata": {
    "scrolled": true
   },
   "outputs": [],
   "source": [
    "df['metric'] = 0\n",
    "df['metric_used'] = args.eval_metric\n",
    "\n",
    "criterion = nn.CrossEntropyLoss()\n",
    "for i,model_path in enumerate(model_paths):\n",
    "    model = torch.load(model_path)\n",
    "    test_loss, test_acc = test_epoch(model, args.device, test_loader, criterion, args.eval_metric, num_classes)\n",
    "    if torch.is_tensor(test_acc):\n",
    "        test_acc = test_acc.item()\n",
    "    df['metric'].iloc[i] = test_acc\n",
    "    print(f\"{args.eval_metric} del modelo {model_path}: {test_acc:.3f}\")"
   ]
  },
  {
   "cell_type": "code",
   "execution_count": null,
   "id": "b61215d4",
   "metadata": {},
   "outputs": [],
   "source": [
    "if not os.path.exists(f\"results/{args.dataset}\"):\n",
    "    os.makedirs(f\"results/{args.dataset}\")\n",
    "df.to_csv(f'results/{args.dataset}/results_{args.dataset}.csv')"
   ]
  },
  {
   "cell_type": "markdown",
   "id": "a1edbb0a",
   "metadata": {},
   "source": [
    "# Results Plot"
   ]
  },
  {
   "cell_type": "code",
   "execution_count": null,
   "id": "8c59fa3c",
   "metadata": {},
   "outputs": [],
   "source": [
    "################################################\n",
    "## Modify if necessary to select method and pruning base\n",
    "#pr_method:  weight, SenpisFaster, random\n",
    "pr_method = \"weight\"\n",
    "#pr_distribution: HOMOGENEA, CRECIENTE, DECRECIENTE, MENOS_MAS_MENOS, MAS_MENOS_MAS\n",
    "pr_distribution = \"MAS_MENOS_MAS\"\n",
    "#base_percentage: 20, 30, 50\n",
    "base_percentage = 20\n",
    "################################################\n",
    "\n",
    "model_type_names = {'UNPRUNED':'Unpruned',\n",
    "                    'CRECIENTE':'$PR_2$',\n",
    "                    'DECRECIENTE':'$PR_3$',\n",
    "                    'HOMOGENEA':'$PR_1$',\n",
    "                    'MAS_MENOS_MAS':'$PR_5$',\n",
    "                    'MENOS_MAS_MENOS':'$PR_4$'\n",
    "                   }\n",
    "\n",
    "pruning_type_names = {'Unpruned':'Unpruned',\n",
    "                      'random':'Random',\n",
    "                      'weight':'Weight',\n",
    "                      'SenpisFaster':'SeNPIS Faster'\n",
    "                     }"
   ]
  },
  {
   "cell_type": "code",
   "execution_count": null,
   "id": "ce5d886c",
   "metadata": {},
   "outputs": [],
   "source": [
    "#seed_type_names = {'23':'1',\n",
    "#                    '42':'2',\n",
    "#                    '97':'3',\n",
    "#                    '112':'4',\n",
    "#                    '167':'5',\n",
    "#                    '214':'6',\n",
    "#                    '256':'7',\n",
    "#                    '333':'8',\n",
    "#                    '425':'9',\n",
    "#                    '512':'10',\n",
    "#                    'original':'original'\n",
    "#                   }\n",
    "\n",
    "if pr_method != 'random':\n",
    "    seed_type_names = {'23':'1',\n",
    "                       'Unpruned':'Unpruned'\n",
    "                      }\n",
    "else:\n",
    "    seed_type_names = {'23':'1',\n",
    "                       '42':'2',\n",
    "                       '97':'3',\n",
    "                       '112':'4',\n",
    "                       '167':'5',\n",
    "                       'Unpruned':'Unpruned'\n",
    "                      }"
   ]
  },
  {
   "cell_type": "code",
   "execution_count": null,
   "id": "24df16e1",
   "metadata": {},
   "outputs": [],
   "source": [
    "df = pd.read_csv(f'results/{args.dataset}/results_{args.dataset}.csv')"
   ]
  },
  {
   "cell_type": "code",
   "execution_count": null,
   "id": "3978fad5",
   "metadata": {},
   "outputs": [],
   "source": [
    "df.model_type.value_counts()"
   ]
  },
  {
   "cell_type": "markdown",
   "id": "5e413832",
   "metadata": {},
   "source": [
    "### By Pruning Method \n",
    "X axis = Pruning Distribution"
   ]
  },
  {
   "cell_type": "code",
   "execution_count": null,
   "id": "579eff33",
   "metadata": {},
   "outputs": [],
   "source": [
    "df_method = df[((df[\"pruning_type\"] == pr_method) & (df[\"pr_base\"] == base_percentage)) | (df[\"model_type\"] == \"UNPRUNED\")]"
   ]
  },
  {
   "cell_type": "code",
   "execution_count": null,
   "id": "7d494a4e",
   "metadata": {
    "scrolled": true
   },
   "outputs": [],
   "source": [
    "df_method.model_type.value_counts()"
   ]
  },
  {
   "cell_type": "code",
   "execution_count": null,
   "id": "6e6da7c7",
   "metadata": {},
   "outputs": [],
   "source": [
    "\n",
    "\n",
    "df_method.model_type = df_method.model_type.map(model_type_names)"
   ]
  },
  {
   "cell_type": "code",
   "execution_count": null,
   "id": "7fa94f12",
   "metadata": {},
   "outputs": [],
   "source": [
    "df_pruned = df_method[(df_method.finetuned == True) | (df_method.model_type == 'Unpruned')][['model_type','metric']]"
   ]
  },
  {
   "cell_type": "code",
   "execution_count": null,
   "id": "c991d691",
   "metadata": {},
   "outputs": [],
   "source": [
    "plt.rcParams['figure.figsize'] = [10, 5]\n",
    "\n",
    "\n",
    "ax = sns.boxplot(x='model_type', y='metric', data=df_pruned, order=[\"Unpruned\", \"$PR_1$\", \"$PR_2$\", \"$PR_3$\", \"$PR_4$\", \"$PR_5$\"])\n",
    "# add stripplot\n",
    "ax = sns.stripplot(x='model_type', y='metric', data=df_pruned, color=\"orange\", jitter=0.3, size=4, order=[\"Unpruned\", \"$PR_1$\", \"$PR_2$\", \"$PR_3$\", \"$PR_4$\", \"$PR_5$\"])\n",
    "\n",
    "ax.yaxis.grid(True) # Hide the horizontal gridlines\n",
    "ax.xaxis.grid(True) # Show the vertical gridlines\n",
    "# add title\n",
    "ax.set(xlabel='Pruning Distributions', ylabel=f'{args.eval_metric.capitalize()}', title=f\"{pruning_type_names[pr_method]} / Global PR {base_percentage}%\")\n",
    "plt.savefig(f'results/{args.dataset}/PR_BOXPLOT_{pruning_type_names[pr_method]}_{base_percentage}.png', dpi=1000)\n",
    "# show the graph\n",
    "plt.show()\n"
   ]
  },
  {
   "cell_type": "markdown",
   "id": "3c80afbe",
   "metadata": {},
   "source": [
    "### By Method/Seed\n",
    "X axis = Seed"
   ]
  },
  {
   "cell_type": "code",
   "execution_count": null,
   "id": "2d1644ac",
   "metadata": {},
   "outputs": [],
   "source": [
    "df_seeds = df_method[(df_method.finetuned == True) | (df_method.model_type == 'Unpruned')][['seed','metric']]\n",
    "df_seeds = df_seeds.sort_values(by = 'seed')\n",
    "df_seeds.seed = df_seeds.apply(lambda x: str(int(x.seed)) if x.seed == x.seed else 'Unpruned', axis = 1 )"
   ]
  },
  {
   "cell_type": "code",
   "execution_count": null,
   "id": "6da9761d",
   "metadata": {},
   "outputs": [],
   "source": [
    "df_seeds.seed.unique().tolist()\n"
   ]
  },
  {
   "cell_type": "code",
   "execution_count": null,
   "id": "a127d69d",
   "metadata": {},
   "outputs": [],
   "source": [
    "df_seeds.seed = df_seeds.seed.map(seed_type_names)"
   ]
  },
  {
   "cell_type": "code",
   "execution_count": null,
   "id": "8249fe1c",
   "metadata": {
    "scrolled": false
   },
   "outputs": [],
   "source": [
    "plt.rcParams['figure.figsize'] = [10, 5]\n",
    "\n",
    "if pr_method != 'random':\n",
    "    ax = sns.boxplot(x='seed', y='metric', data=df_seeds, order= ['Unpruned', '1'])\n",
    "    # add stripplot\n",
    "    ax = sns.stripplot(x='seed', y='metric', data=df_seeds, color=\"orange\", jitter=0.3, size=4, order=  ['Unpruned', '1'])\n",
    "else:\n",
    "    ax = sns.boxplot(x='seed', y='metric', data=df_seeds, order= ['Unpruned', '1', '2', '3', '4', '5'])\n",
    "    # add stripplot\n",
    "    ax = sns.stripplot(x='seed', y='metric', data=df_seeds, color=\"orange\", jitter=0.3, size=4, order=  ['Unpruned', '1', '2', '3', '4', '5'])\n",
    "\n",
    "\n",
    "ax.yaxis.grid(True) # Hide the horizontal gridlines\n",
    "ax.xaxis.grid(True) # Show the vertical gridlines\n",
    "# add title\n",
    "ax.set(xlabel='Seed', ylabel=f'{args.eval_metric.capitalize()}', title=f\"{pruning_type_names[pr_method]} / Global PR {base_percentage}%\")\n",
    "# show the graph\n",
    "plt.savefig(f'results/{args.dataset}/SEED_BOXPLOT_{pruning_type_names[pr_method]}_{base_percentage}.png', dpi=1000)\n",
    "plt.show()\n"
   ]
  },
  {
   "cell_type": "markdown",
   "id": "45406ef5",
   "metadata": {},
   "source": [
    "### By Pruning Distribution\n",
    "X axis = Pruning Method"
   ]
  },
  {
   "cell_type": "code",
   "execution_count": null,
   "id": "259e91f5",
   "metadata": {},
   "outputs": [],
   "source": [
    "df_distribution = df[((df[\"model_type\"] == pr_distribution) & (df[\"pr_base\"] == base_percentage)) | (df[\"model_type\"] == \"UNPRUNED\")]\n",
    "df_distribution[\"pruning_type\"] = df_distribution[\"pruning_type\"].fillna('Unpruned')"
   ]
  },
  {
   "cell_type": "code",
   "execution_count": null,
   "id": "533790c8",
   "metadata": {},
   "outputs": [],
   "source": [
    "df_distribution.pruning_type.value_counts()"
   ]
  },
  {
   "cell_type": "code",
   "execution_count": null,
   "id": "28e8e196",
   "metadata": {},
   "outputs": [],
   "source": [
    "df_distribution.pruning_type = df_distribution.pruning_type.map(pruning_type_names)"
   ]
  },
  {
   "cell_type": "code",
   "execution_count": null,
   "id": "707748da",
   "metadata": {},
   "outputs": [],
   "source": [
    "df_distr = df_distribution[(df_distribution.finetuned == True) | (df_distribution.pruning_type == 'Unpruned')][['pruning_type','metric']]"
   ]
  },
  {
   "cell_type": "code",
   "execution_count": null,
   "id": "dc1dd9e1",
   "metadata": {
    "scrolled": false
   },
   "outputs": [],
   "source": [
    "plt.rcParams['figure.figsize'] = [10, 5]\n",
    "\n",
    "ax = sns.boxplot(x='pruning_type', y='metric', data=df_distr, order= ['Unpruned', 'Random', 'Weight', 'SeNPIS Faster'])\n",
    "# add stripplot\n",
    "ax = sns.stripplot(x='pruning_type', y='metric', data=df_distr, color=\"orange\", jitter=0.3, size=4, order=  ['Unpruned', 'Random', 'Weight', 'SeNPIS Faster'])\n",
    "\n",
    "\n",
    "ax.yaxis.grid(True) # Hide the horizontal gridlines\n",
    "ax.xaxis.grid(True) # Show the vertical gridlines\n",
    "# add title\n",
    "ax.set(xlabel='Pruning Methods', ylabel=f'{args.eval_metric.capitalize()}', title=f\"{model_type_names[pr_distribution]} / Global PR {base_percentage}%\")\n",
    "# show the graph\n",
    "plt.savefig(f'results/{args.dataset}/DISTRIBUTION_BOXPLOT_{pr_distribution}_{base_percentage}.png', dpi=1000)\n",
    "plt.show()\n"
   ]
  },
  {
   "cell_type": "code",
   "execution_count": null,
   "id": "ed5b7c34",
   "metadata": {},
   "outputs": [],
   "source": []
  }
 ],
 "metadata": {
  "kernelspec": {
   "display_name": "Python 3 (ipykernel)",
   "language": "python",
   "name": "python3"
  },
  "language_info": {
   "codemirror_mode": {
    "name": "ipython",
    "version": 3
   },
   "file_extension": ".py",
   "mimetype": "text/x-python",
   "name": "python",
   "nbconvert_exporter": "python",
   "pygments_lexer": "ipython3",
   "version": "3.9.13"
  }
 },
 "nbformat": 4,
 "nbformat_minor": 5
}
