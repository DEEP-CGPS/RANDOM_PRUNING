{
 "cells": [
  {
   "cell_type": "code",
   "execution_count": null,
   "id": "5c70cba2",
   "metadata": {},
   "outputs": [],
   "source": [
    "import sys\n",
    "import torch\n",
    "import torch.optim as optim\n",
    "import torchvision\n",
    "import argparse\n",
    "import torch.nn as nn\n",
    "import pandas as pd\n",
    "import re\n",
    "import os\n",
    "import seaborn as sns\n",
    "from torchvision import transforms\n",
    "from matplotlib.pyplot import figure\n",
    "from matplotlib import pyplot as plt\n",
    "from utils import *\n",
    "\n",
    "sys.argv = ['']\n",
    "\n",
    "parser = argparse.ArgumentParser(description='Parameters training')\n",
    "parser.add_argument('--model_architecture', type=str, default=\"VGG16\", help='....')\n",
    "parser.add_argument('--dataset', type=str, default=\"CIFAR10\", help='....')\n",
    "parser.add_argument('--batch_size', type=int, default=8, help='....')\n",
    "parser.add_argument('--device', type=str, default=None, help='....')\n",
    "parser.add_argument('--eval_metric', default=\"accuracy\", help='....')\n",
    "\n",
    "args = parser.parse_args()\n",
    "\n",
    "if args.device is None:\n",
    "    import torch\n",
    "    args.device = torch.device(\"cuda\" if torch.cuda.is_available() else \"cpu\")"
   ]
  },
  {
   "cell_type": "code",
   "execution_count": null,
   "id": "44f1460a",
   "metadata": {},
   "outputs": [],
   "source": [
    "##\n",
    "# Modify if necessary\n",
    "args.dataset = \"Tomato_Leaves\"\n",
    "args.eval_metric = \"f1_score\"\n",
    "base_percentage = 50\n",
    "##\n",
    "\n",
    "\n",
    "model_directory = f\"models/{args.dataset}\"\n",
    "model_paths = []\n",
    "\n",
    "for filename in os.listdir(model_directory):\n",
    "    if filename.endswith(\".pth\"):\n",
    "        model_path = os.path.join(model_directory, filename)\n",
    "        model_paths.append(model_path)"
   ]
  },
  {
   "cell_type": "code",
   "execution_count": null,
   "id": "bd9c4103",
   "metadata": {},
   "outputs": [],
   "source": [
    "_, test_loader, num_classes = get_dataset(args)"
   ]
  },
  {
   "cell_type": "code",
   "execution_count": null,
   "id": "b09d9ef4",
   "metadata": {
    "scrolled": false
   },
   "outputs": [],
   "source": [
    "df = pd.DataFrame({'model_paths': model_paths})\n",
    "df['model_type'] = df['model_paths'].apply(lambda x: re.search(fr'(HOMOGENEA|CRECIENTE|DECRECIENTE|MAS_MENOS_MAS|MENOS_MAS_MENOS|{args.model_architecture}_{args.dataset}_UNPRUNED)', x).group())\n",
    "df['finetuned'] = df['model_paths'].apply(lambda x: 'FT' in x)\n",
    "df['seed'] = df['model_paths'].apply(lambda x: re.search(r'(?<=SEED_)\\d+', x).group() if re.search(r'(?<=SEED_)\\d+', x) else None)\n",
    "df"
   ]
  },
  {
   "cell_type": "code",
   "execution_count": null,
   "id": "ca7c5ee7",
   "metadata": {
    "scrolled": false
   },
   "outputs": [],
   "source": [
    "df['metric'] = 0\n",
    "criterion = nn.CrossEntropyLoss()\n",
    "for i,model_path in enumerate(model_paths):\n",
    "    model = torch.load(model_path)\n",
    "    test_loss, test_acc = test_epoch(model, args.device, test_loader, criterion, args.eval_metric, num_classes)\n",
    "    if torch.is_tensor(test_acc):\n",
    "        test_acc = test_acc.item()\n",
    "    df['metric'].iloc[i] = test_acc\n",
    "    print(f\"{args.eval_metric} del modelo {model_path}: {test_acc:.3f}\")"
   ]
  },
  {
   "cell_type": "code",
   "execution_count": null,
   "id": "b61215d4",
   "metadata": {},
   "outputs": [],
   "source": [
    "if not os.path.exists(f\"results/{args.dataset}\"):\n",
    "    os.makedirs(f\"results/{args.dataset}\")\n",
    "df.to_csv(f'results/{args.dataset}/results_{args.dataset}_pruning_{base_percentage}.csv')"
   ]
  },
  {
   "cell_type": "code",
   "execution_count": null,
   "id": "24df16e1",
   "metadata": {},
   "outputs": [],
   "source": [
    "df = pd.read_csv(f'results/{args.dataset}/results_{args.dataset}_pruning_{base_percentage}.csv')"
   ]
  },
  {
   "cell_type": "code",
   "execution_count": null,
   "id": "3978fad5",
   "metadata": {},
   "outputs": [],
   "source": [
    "df.model_type.value_counts()"
   ]
  },
  {
   "cell_type": "code",
   "execution_count": null,
   "id": "6e6da7c7",
   "metadata": {},
   "outputs": [],
   "source": [
    "model_type_names = {f'{args.model_architecture}_{args.dataset}_UNPRUNED':'original',\n",
    "                    'CRECIENTE':'PR_2',\n",
    "                    'DECRECIENTE':'PR_3',\n",
    "                    'HOMOGENEA':'PR_1',\n",
    "                    'MAS_MENOS_MAS':'PR_5',\n",
    "                    'MENOS_MAS_MENOS':'PR_4'\n",
    "                   }\n",
    "df.model_type = df.model_type.map(model_type_names)"
   ]
  },
  {
   "cell_type": "code",
   "execution_count": null,
   "id": "7fa94f12",
   "metadata": {},
   "outputs": [],
   "source": [
    "df_pruned = df[(df.finetuned == True) | (df.model_type == 'original')][['model_type','metric']]"
   ]
  },
  {
   "cell_type": "code",
   "execution_count": null,
   "id": "c991d691",
   "metadata": {},
   "outputs": [],
   "source": [
    "plt.rcParams['figure.figsize'] = [10, 5]\n",
    "\n",
    "\n",
    "ax = sns.boxplot(x='model_type', y='metric', data=df_pruned, order=[\"original\", \"PR_1\", \"PR_2\", \"PR_3\", \"PR_4\", \"PR_5\"])\n",
    "# add stripplot\n",
    "ax = sns.stripplot(x='model_type', y='metric', data=df_pruned, color=\"orange\", jitter=0.3, size=4, order=[\"original\", \"PR_1\", \"PR_2\", \"PR_3\", \"PR_4\", \"PR_5\"])\n",
    "\n",
    "ax.yaxis.grid(True) # Hide the horizontal gridlines\n",
    "ax.xaxis.grid(True) # Show the vertical gridlines\n",
    "# add title\n",
    "ax.set(xlabel='Pruning Distributions', ylabel=f'{args.eval_metric}')\n",
    "plt.savefig(f'results/{args.dataset}/PR_BOXPLOT.png', dpi=1000)\n",
    "# show the graph\n",
    "plt.show()\n"
   ]
  },
  {
   "cell_type": "code",
   "execution_count": null,
   "id": "2e0c8b96",
   "metadata": {},
   "outputs": [],
   "source": [
    "df_seeds = df[(df.finetuned == True) | (df.model_type == 'original')][['seed','metric']]\n",
    "df_seeds = df_seeds.sort_values(by = 'seed')\n",
    "df_seeds.seed = df_seeds.apply(lambda x: str(int(x.seed)) if x.seed == x.seed else 'original', axis = 1 )"
   ]
  },
  {
   "cell_type": "code",
   "execution_count": null,
   "id": "b1ea35df",
   "metadata": {},
   "outputs": [],
   "source": [
    "df_seeds.seed.unique().tolist()\n"
   ]
  },
  {
   "cell_type": "code",
   "execution_count": null,
   "id": "28e8e196",
   "metadata": {},
   "outputs": [],
   "source": [
    "seed_type_names = {'23':'1',\n",
    "                    '42':'2',\n",
    "                    '97':'3',\n",
    "                    '112':'4',\n",
    "                    '167':'5',\n",
    "                    '214':'6',\n",
    "                    '256':'7',\n",
    "                    '333':'8',\n",
    "                    '425':'9',\n",
    "                    '512':'10',\n",
    "                    'original':'original'\n",
    "                   }"
   ]
  },
  {
   "cell_type": "code",
   "execution_count": null,
   "id": "707748da",
   "metadata": {},
   "outputs": [],
   "source": [
    "df_seeds.seed = df_seeds.seed.map(seed_type_names)"
   ]
  },
  {
   "cell_type": "code",
   "execution_count": null,
   "id": "dc1dd9e1",
   "metadata": {},
   "outputs": [],
   "source": [
    "plt.rcParams['figure.figsize'] = [10, 5]\n",
    "\n",
    "ax = sns.boxplot(x='seed', y='metric', data=df_seeds, order= ['original', '1', '2', '3', '4', '5', '6', '7', '8', '9', '10'])\n",
    "# add stripplot\n",
    "ax = sns.stripplot(x='seed', y='metric', data=df_seeds, color=\"orange\", jitter=0.3, size=4, order=  ['original', '1', '2', '3', '4', '5', '6', '7', '8', '9', '10'])\n",
    "\n",
    "ax.yaxis.grid(True) # Hide the horizontal gridlines\n",
    "ax.xaxis.grid(True) # Show the vertical gridlines\n",
    "# add title\n",
    "ax.set(xlabel='Seed', ylabel=f'{args.eval_metric}')\n",
    "# show the graph\n",
    "plt.savefig(f'results/{args.dataset}/SEED_BOXPLOT.png', dpi=1000)\n",
    "plt.show()\n"
   ]
  },
  {
   "cell_type": "code",
   "execution_count": null,
   "id": "22c621a0",
   "metadata": {},
   "outputs": [],
   "source": []
  }
 ],
 "metadata": {
  "kernelspec": {
   "display_name": "Python 3 (ipykernel)",
   "language": "python",
   "name": "python3"
  },
  "language_info": {
   "codemirror_mode": {
    "name": "ipython",
    "version": 3
   },
   "file_extension": ".py",
   "mimetype": "text/x-python",
   "name": "python",
   "nbconvert_exporter": "python",
   "pygments_lexer": "ipython3",
   "version": "3.9.13"
  }
 },
 "nbformat": 4,
 "nbformat_minor": 5
}
